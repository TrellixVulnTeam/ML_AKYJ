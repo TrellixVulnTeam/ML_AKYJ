{
 "cells": [
  {
   "cell_type": "code",
   "execution_count": 4,
   "metadata": {},
   "outputs": [],
   "source": [
    "import pandas as pd"
   ]
  },
  {
   "cell_type": "code",
   "execution_count": 5,
   "metadata": {},
   "outputs": [],
   "source": [
    "def preprocess_datacombined(orders_filtered, orders_options):\n",
    "    data_combined = pd.merge(orders_filtered, orders_options, left_on=\"externalvehiclenumber\",\n",
    "                             right_on=\"externalvehiclenumber\", how=\"left\")\n",
    "    data_combined[\"option_key\"] = data_combined.groupby(\"externalvehiclenumber\").transform(lambda x: \",\".join(x))[\"option_key\"]\n",
    "    data_combined = data_combined.drop_duplicates(subset=[\"externalvehiclenumber\"])\n",
    "    data_combined = data_combined.reset_index(drop=True)\n",
    "    \n",
    "    return data_combined"
   ]
  },
  {
   "cell_type": "code",
   "execution_count": 6,
   "metadata": {},
   "outputs": [],
   "source": [
    "def filtering(dataframe, gg_id, btyp, mj_4):\n",
    "    dataframe = dataframe[(dataframe[\"gg_id\"]==gg_id) & (dataframe[\"btyp\"]==btyp) & (dataframe[\"mj_4\"]== mj_4)]\n",
    "    \n",
    "    return dataframe"
   ]
  },
  {
   "cell_type": "code",
   "execution_count": null,
   "metadata": {},
   "outputs": [],
   "source": []
  }
 ],
 "metadata": {
  "kernelspec": {
   "display_name": "Python 3",
   "language": "python",
   "name": "python3"
  },
  "language_info": {
   "codemirror_mode": {
    "name": "ipython",
    "version": 3
   },
   "file_extension": ".py",
   "mimetype": "text/x-python",
   "name": "python",
   "nbconvert_exporter": "python",
   "pygments_lexer": "ipython3",
   "version": "3.8.5"
  }
 },
 "nbformat": 4,
 "nbformat_minor": 4
}
