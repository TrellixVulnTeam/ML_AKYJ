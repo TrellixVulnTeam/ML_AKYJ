{
 "cells": [
  {
   "cell_type": "code",
   "execution_count": 1,
   "metadata": {},
   "outputs": [],
   "source": [
    "import matplotlib.pyplot as plt\n",
    "import numpy as np\n",
    "import pandas as pd\n",
    "import seaborn as sns"
   ]
  },
  {
   "cell_type": "code",
   "execution_count": 4,
   "metadata": {},
   "outputs": [],
   "source": [
    "class Abbildung:\n",
    "\n",
    "    big = None\n",
    "    \n",
    "    def __init__(self, big):\n",
    "        self.big = big\n",
    "\n",
    "    def plot_preis_take(self):\n",
    "        plt.figure(figsize=(12,8))\n",
    "        plt.scatter(self.big[\"preis\"], self.big[\"Take Rate\"], color=\"green\")\n",
    "        plt.xlabel(\"Preis der Optionen\", fontsize=15)\n",
    "        plt.ylabel(\"Take Rate\", fontsize=15)\n",
    "        z = np.polyfit(self.big[\"preis\"], self.big[\"Take Rate\"], 1)\n",
    "        p = np.poly1d(z)\n",
    "        plt.plot(self.big[\"preis\"],p(self.big[\"preis\"]),\"g-\")\n",
    "\n",
    "        plt.show()\n",
    "\n",
    "    def plot_grPreis_take(self):\n",
    "        plt.figure(figsize=(12,8))\n",
    "        plt.scatter(self.big['Preisverhaeltnis zu gr_prs'], self.big[\"Take Rate\"], color=\"green\")\n",
    "        plt.xlabel('Preisverhaeltnis zu Grundpreis', fontsize=15)\n",
    "        plt.ylabel(\"Take Rate\", fontsize=15)\n",
    "        z = np.polyfit(self.big['Preisverhaeltnis zu gr_prs'], self.big[\"Take Rate\"], 1)\n",
    "        p = np.poly1d(z)\n",
    "        plt.plot(self.big['Preisverhaeltnis zu gr_prs'],p(self.big['Preisverhaeltnis zu gr_prs']),\"g-\")\n",
    "\n",
    "        plt.show()\n",
    "        \n",
    "    def plot_Fam_take(self):\n",
    "        plt.figure(figsize=(12,8))\n",
    "        sns.jointplot(self.big[\"Preisverhaeltnis zu Fam\"],self.big[\"Take Rate\"],kind=\"hex\", color='green')\n",
    "        plt.xlabel(\"Preisverhältnis der Optionen zur Optionsfamilie \", fontsize=15)\n",
    "        plt.ylabel(\"Take Rate der Optionen\", fontsize=15)\n",
    "        \n",
    "        plt.show()\n",
    "        \n",
    "    def plot_Laenge_take(self):\n",
    "        plt.figure(figsize=(12,8))\n",
    "        sns.set_context('paper',font_scale=1.5)\n",
    "        sns.jointplot(self.big[\"Laenge\"],self.big[\"Take Rate\"],kind=\"hex\", color='green')\n",
    "        plt.xlabel(\"Länge \", fontsize=15)\n",
    "        plt.ylabel(\"Take Rate der Optionen\", fontsize=15)\n",
    "        \n",
    "        plt.show()\n",
    "        \n"
   ]
  }
 ],
 "metadata": {
  "kernelspec": {
   "display_name": "Python 3",
   "language": "python",
   "name": "python3"
  },
  "language_info": {
   "codemirror_mode": {
    "name": "ipython",
    "version": 3
   },
   "file_extension": ".py",
   "mimetype": "text/x-python",
   "name": "python",
   "nbconvert_exporter": "python",
   "pygments_lexer": "ipython3",
   "version": "3.8.5"
  }
 },
 "nbformat": 4,
 "nbformat_minor": 4
}
