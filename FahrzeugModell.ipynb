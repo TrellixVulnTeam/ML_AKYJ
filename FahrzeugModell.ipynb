{
 "cells": [
  {
   "cell_type": "code",
   "execution_count": 1,
   "metadata": {},
   "outputs": [
    {
     "name": "stdout",
     "output_type": "stream",
     "text": [
      "importing Jupyter notebook from Preprocessing.ipynb\n",
      "importing Jupyter notebook from FrequentItemsets.ipynb\n"
     ]
    }
   ],
   "source": [
    "import pandas as pd\n",
    "import import_ipynb\n",
    "from mlxtend.preprocessing import TransactionEncoder\n",
    "from mlxtend.frequent_patterns import apriori\n",
    "\n",
    "\n",
    "#Methoden\n",
    "import Preprocessing\n",
    "import FrequentItemsets"
   ]
  },
  {
   "cell_type": "code",
   "execution_count": 2,
   "metadata": {},
   "outputs": [],
   "source": [
    "class FahrzeugModell:\n",
    "\n",
    "\n",
    "\n",
    "\n",
    "    gg_id = 261\n",
    "    mj_4 = 2020\n",
    "    btyp = ''\n",
    "\n",
    "    def __init__(self, btyp):\n",
    "        self.btyp = btyp\n",
    "        \n",
    "        self.orders = pd.read_csv(\"Daten/Februar2021/orders.csv\", delimiter=\";\")\n",
    "        self.orders_options = pd.read_csv(\"Daten/Februar2021/orders_options.csv\", delimiter=\";\")\n",
    "        self.option_prices = pd.read_csv(\"Daten/option_package_prices.csv\", delimiter=\";\")\n",
    "        self.btyp_prices = pd.read_csv(\"Daten/model_base_price.csv\" , delimiter=\";\")\n",
    "        self.abzug = pd.read_csv(\"Daten/s_abzug_po.csv\" , delimiter=\";\")\n",
    "        self.metadata_china = pd.read_csv(\"Daten/2021-02-28_China__PCN__C33_ExportExcel-2020.csv\",\n",
    "                                          delimiter=\";\", encoding=\"latin1\")\n",
    "\n",
    "    def get_Big(self):\n",
    "        \n",
    "        \n",
    "        \n",
    "        orders_filtered = Preprocessing.filtering(self.orders, self.gg_id, self.btyp, self.mj_4)\n",
    "        data_combined = Preprocessing.preprocess_datacombined(orders_filtered, self.orders_options)\n",
    "        option_prices_filtered = Preprocessing.filtering(self.option_prices, self.gg_id, self.btyp, self.mj_4)\n",
    "        btyp_prices_filtered = Preprocessing.filtering(self.btyp_prices, self.gg_id, self.btyp, self.mj_4)\n",
    "        frequent_itemsets = FrequentItemsets.get_frequentitemsets(data_combined)\n",
    "       \n",
    "        support_option_price = pd.merge(option_prices_filtered, frequent_itemsets, left_on=\"option_key\", right_on=\"itemsets\")\n",
    "        support_price = pd.merge(btyp_prices_filtered, support_option_price, on=\"btyp\")\n",
    "        abzug1 = self.abzug[self.abzug['btyp']==self.btyp]\n",
    "        data = pd.merge(support_price, abzug1, left_on='ausstatt_alt', right_on='aus', how='inner', suffixes=('', '_y'))\n",
    "        data.drop(data.filter(regex='_y$').columns.tolist(),axis=1, inplace=True)  \n",
    "        metadata_china1 = self.metadata_china[(self.metadata_china['Language'] =='CE') & (self.metadata_china['Model Code'] == self.btyp)]\n",
    "        big_data = pd.merge(data, metadata_china1, left_on='ausstatt_alt', right_on= 'Equipment', how= 'inner')\n",
    "        \n",
    "        return big_data[['preis_typ_x', 'gr_prs', 'waehr_kz_x', 'option_key', 'preis', 'support',\n",
    "                        'm_familie', 'Model Year', 'Model Code', 'Category', 'Equipment',\n",
    "                        'Text', 'Longtext']]\n",
    "    \n"
   ]
  },
  {
   "cell_type": "code",
   "execution_count": null,
   "metadata": {},
   "outputs": [],
   "source": []
  }
 ],
 "metadata": {
  "kernelspec": {
   "display_name": "Python 3",
   "language": "python",
   "name": "python3"
  },
  "language_info": {
   "codemirror_mode": {
    "name": "ipython",
    "version": 3
   },
   "file_extension": ".py",
   "mimetype": "text/x-python",
   "name": "python",
   "nbconvert_exporter": "python",
   "pygments_lexer": "ipython3",
   "version": "3.8.5"
  }
 },
 "nbformat": 4,
 "nbformat_minor": 4
}
