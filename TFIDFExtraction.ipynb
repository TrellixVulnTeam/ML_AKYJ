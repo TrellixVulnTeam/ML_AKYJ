{
 "cells": [
  {
   "cell_type": "code",
   "execution_count": 7,
   "metadata": {},
   "outputs": [],
   "source": [
    "import pandas as pd\n",
    "from sklearn.cluster import KMeans\n",
    "from sklearn.feature_extraction.text import TfidfVectorizer\n",
    "from sklearn.metrics.pairwise import linear_kernel"
   ]
  },
  {
   "cell_type": "code",
   "execution_count": 2,
   "metadata": {},
   "outputs": [],
   "source": [
    "\n",
    "def get_kmeans_labels(big_nlp):\n",
    "    \n",
    "        tf = TfidfVectorizer(ngram_range=(1,1), min_df=3)\n",
    "        df_tf = tf.fit_transform(big_nlp.description)\n",
    "        cosine_similarities = linear_kernel(df_tf, df_tf)\n",
    "        kmeans = KMeans(n_clusters=45, random_state=42)\n",
    "        kmeans.fit(cosine_similarities)\n",
    "        kmeans.cluster_centers_\n",
    "        kmeans.labels_\n",
    "        return kmeans.labels_"
   ]
  },
  {
   "cell_type": "code",
   "execution_count": null,
   "metadata": {},
   "outputs": [],
   "source": []
  }
 ],
 "metadata": {
  "kernelspec": {
   "display_name": "Python 3",
   "language": "python",
   "name": "python3"
  },
  "language_info": {
   "codemirror_mode": {
    "name": "ipython",
    "version": 3
   },
   "file_extension": ".py",
   "mimetype": "text/x-python",
   "name": "python",
   "nbconvert_exporter": "python",
   "pygments_lexer": "ipython3",
   "version": "3.8.5"
  }
 },
 "nbformat": 4,
 "nbformat_minor": 4
}
