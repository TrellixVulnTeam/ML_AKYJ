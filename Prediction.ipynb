{
 "cells": [
  {
   "cell_type": "code",
   "execution_count": 1,
   "metadata": {},
   "outputs": [],
   "source": [
    "import pandas as pd"
   ]
  },
  {
   "cell_type": "code",
   "execution_count": 5,
   "metadata": {},
   "outputs": [],
   "source": [
    "  def get_result(big, predictions,\n",
    "                 test_y):\n",
    "     \n",
    "        result = pd.DataFrame(list(zip(predictions, test_y)), columns=['predictions', 'test_y'])\n",
    "        df_prediction = pd.merge(result, big, left_on='test_y',right_on='Take Rate', how='left')\n",
    "        df_prediction.drop_duplicates(['option_key','preis'],inplace=True )\n",
    "        df_prediction['difference'] = abs(df_prediction['test_y'] - df_prediction['predictions'])\n",
    "        df_prediction.sort_values(['difference'], ascending=False, inplace=True)\n",
    "        \n",
    "        return df_prediction\n"
   ]
  },
  {
   "cell_type": "code",
   "execution_count": null,
   "metadata": {},
   "outputs": [],
   "source": []
  }
 ],
 "metadata": {
  "kernelspec": {
   "display_name": "Python 3",
   "language": "python",
   "name": "python3"
  },
  "language_info": {
   "codemirror_mode": {
    "name": "ipython",
    "version": 3
   },
   "file_extension": ".py",
   "mimetype": "text/x-python",
   "name": "python",
   "nbconvert_exporter": "python",
   "pygments_lexer": "ipython3",
   "version": "3.8.5"
  }
 },
 "nbformat": 4,
 "nbformat_minor": 4
}
