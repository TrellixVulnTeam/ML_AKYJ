{
 "cells": [
  {
   "cell_type": "code",
   "execution_count": 1,
   "metadata": {},
   "outputs": [],
   "source": [
    "import matplotlib.pyplot as plt\n",
    "import numpy as np\n",
    "import pandas as pd\n",
    "import seaborn as sns"
   ]
  },
  {
   "cell_type": "code",
   "execution_count": 3,
   "metadata": {},
   "outputs": [],
   "source": [
    "def plt_take(predictions,test_y):\n",
    "\n",
    "    plt.figure(figsize=[12,8])\n",
    "    plt.scatter(predictions,test_y)\n",
    "    plt.xlabel(\"Prognostizierte Take Rate der Optionen\", fontsize = 15)\n",
    "    plt.ylabel(\"Take Rate der Optionen\", fontsize = 15)\n",
    "    p1 = max(max(predictions), max(test_y))\n",
    "    p2 = min(min(predictions), min(test_y))\n",
    "    plt.plot([p1, p2], [p1, p2], color=\"blue\", label='optimale Linie')\n",
    "    z = np.polyfit(predictions, test_y, 1)\n",
    "    p = np.poly1d(z)\n",
    "    plt.plot(predictions,p(predictions),color=\"green\", label='Trendlinie')\n",
    "    plt.legend(fontsize = \"x-large\")\n",
    "    \n",
    "    plt.show()"
   ]
  },
  {
   "cell_type": "code",
   "execution_count": null,
   "metadata": {},
   "outputs": [],
   "source": []
  }
 ],
 "metadata": {
  "kernelspec": {
   "display_name": "Python 3",
   "language": "python",
   "name": "python3"
  },
  "language_info": {
   "codemirror_mode": {
    "name": "ipython",
    "version": 3
   },
   "file_extension": ".py",
   "mimetype": "text/x-python",
   "name": "python",
   "nbconvert_exporter": "python",
   "pygments_lexer": "ipython3",
   "version": "3.8.5"
  }
 },
 "nbformat": 4,
 "nbformat_minor": 4
}
