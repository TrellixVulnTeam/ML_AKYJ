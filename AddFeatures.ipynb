{
 "cells": [
  {
   "cell_type": "code",
   "execution_count": 1,
   "metadata": {},
   "outputs": [],
   "source": [
    "import pandas as pd"
   ]
  },
  {
   "cell_type": "code",
   "execution_count": 2,
   "metadata": {},
   "outputs": [],
   "source": [
    " def add_features(big):\n",
    "        \n",
    "    a = pd.DataFrame(big.groupby(['m_familie'])['preis'].mean())\n",
    "    a.rename(columns = {'preis' : 'Preis_fam-Durchschnitt'}, inplace = True)\n",
    "    big = pd.merge(big, a, on='m_familie', how='inner')\n",
    "    \n",
    "    big['Preisverhaeltnis zu Fam']= big['preis'] / big['Preis_fam-Durchschnitt']\n",
    "    big['Preisverhaeltnis zu Fam'] = big['Preisverhaeltnis zu Fam'].dropna()\n",
    "    big['Preisverhaeltnis zu gr_prs'] = big['preis'] / big['gr_prs']\n",
    "\n",
    "    Laenge = pd.DataFrame(big.groupby('m_familie').count()['Equipment'])\n",
    "    Laenge.rename(columns= {'Equipment' : 'Laenge'}, inplace=True)\n",
    "    return pd.merge(big,Laenge, on='m_familie', how='inner')"
   ]
  },
  {
   "cell_type": "code",
   "execution_count": null,
   "metadata": {},
   "outputs": [],
   "source": []
  }
 ],
 "metadata": {
  "kernelspec": {
   "display_name": "Python 3",
   "language": "python",
   "name": "python3"
  },
  "language_info": {
   "codemirror_mode": {
    "name": "ipython",
    "version": 3
   },
   "file_extension": ".py",
   "mimetype": "text/x-python",
   "name": "python",
   "nbconvert_exporter": "python",
   "pygments_lexer": "ipython3",
   "version": "3.8.5"
  }
 },
 "nbformat": 4,
 "nbformat_minor": 4
}
